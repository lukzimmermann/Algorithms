{
 "cells": [
  {
   "cell_type": "code",
   "execution_count": 85,
   "metadata": {},
   "outputs": [],
   "source": [
    "import matplotlib.pyplot as plt\n",
    "import numpy as np\n",
    "from PIL import Image"
   ]
  },
  {
   "cell_type": "code",
   "execution_count": 86,
   "metadata": {},
   "outputs": [
    {
     "data": {
      "image/png": "[encoded data removed]",
      "text/plain": [
       "<Figure size 1200x1200 with 1 Axes>"
      ]
     },
     "metadata": {},
     "output_type": "display_data"
    }
   ],
   "source": [
    "img = np.asarray(Image.open('pic8.png'))\n",
    "plt.rcParams['figure.figsize'] = [12, 12]\n",
    "imgplot = plt.imshow(img)"
   ]
  },
  {
   "attachments": {},
   "cell_type": "markdown",
   "metadata": {},
   "source": [
    "#### Class `Point`\n",
    "Definiert einen Punkt mit folgenden Parametern:\n",
    "- `x`: x-Position des Punktes\n",
    "- `y`: y-Position des Punkter\n",
    "- `g_cost`: Der Kostenwert um diesen Punkt zu erreichen\n",
    "- `h_cost`: Der Kostenwert um diesen Punkt zu erreichen\n",
    "- `f_cost`: Der Kostenwert um diesen Punkt zu erreichen\n",
    "- `isActive`: Besagt ob der Punkt aktiv ist bzw. ob er für den Pfad relevant ist\n",
    "- `distanceToTarget`: Ist die Distanz zum Ziel"
   ]
  },
  {
   "cell_type": "code",
   "execution_count": 87,
   "metadata": {},
   "outputs": [],
   "source": [
    "class Point:\n",
    "    def __init__(self, x, y, g_cost=0, h_cost=0, isVisited=False):\n",
    "        self.x = x\n",
    "        self.y = y\n",
    "        self.g_cost = g_cost #distance from starting point\n",
    "        self.h_cost = h_cost #distance form end point\n",
    "        self.f_cost = g_cost + h_cost #sum of H cost and G cost\n",
    "        self.isVisited = isVisited,\n",
    "    \n",
    "    def updateCost(self, g_cost, h_cost):\n",
    "        self.g_cost = g_cost\n",
    "        self.h_cost = h_cost\n",
    "        self.f_cost = g_cost + h_cost\n",
    "\n"
   ]
  },
  {
   "attachments": {},
   "cell_type": "markdown",
   "metadata": {},
   "source": [
    "#### Function `getPointByColor`\n",
    "Gibt einen Punkt zurück, welcher die entsprechende Farbe hat. Es wird nur der letzte gefundene Punkt zurückgegeben.\n",
    "- `r`: Rotwert von 0-255\n",
    "- `g`: Grünwert von 0-255\n",
    "- `b`: Blauwert von 0-255\n",
    "- `image`: Bildarray in dem der Punkt gesucht werden soll"
   ]
  },
  {
   "cell_type": "code",
   "execution_count": 88,
   "metadata": {},
   "outputs": [],
   "source": [
    "def getPointByColor(r, g, b, image):\n",
    "    x, y = 0, 0\n",
    "    for idi, i in enumerate(image):\n",
    "        for idj, j in enumerate(i):\n",
    "            if j[0] == r and j[1] == g and j[2] == b:\n",
    "               x = idj\n",
    "               y = idi\n",
    "    return Point(x ,y)\n"
   ]
  },
  {
   "attachments": {},
   "cell_type": "markdown",
   "metadata": {},
   "source": [
    "Der grüne Startpunkt und der rote Zielpunkt wird mithilfe der Funktion `getPointByColor` definiert."
   ]
  },
  {
   "cell_type": "code",
   "execution_count": null,
   "metadata": {},
   "outputs": [],
   "source": []
  },
  {
   "cell_type": "code",
   "execution_count": null,
   "metadata": {},
   "outputs": [],
   "source": []
  },
  {
   "cell_type": "code",
   "execution_count": 89,
   "metadata": {},
   "outputs": [
    {
     "name": "stdout",
     "output_type": "stream",
     "text": [
      "StartPoint = <__main__.Point object at 0x11b106320>\n",
      "EndPoint = <__main__.Point object at 0x1036cdff0>\n"
     ]
    }
   ],
   "source": [
    "startPoint = getPointByColor(0, 255, 0, img)\n",
    "endPoint = getPointByColor(255, 0, 0, img)\n",
    "print(f'StartPoint = {startPoint}\\nEndPoint = {endPoint}')"
   ]
  },
  {
   "attachments": {},
   "cell_type": "markdown",
   "metadata": {},
   "source": [
    "#### Function `isWall`\n",
    "Gibt zurück, ob entsprechneder Punkt eine Wand ist oder nicht. Wenn die Farbe des Punktes in allen drei Farben einen geringeren Wert als 128 aufweisst, wird er als Wand definiert.\n",
    "- `point:Point`: Punkt der auf eine Wand geprüft werden soll.\n",
    "- `image`: Bildarray auf dem der Punkt ist"
   ]
  },
  {
   "cell_type": "code",
   "execution_count": 90,
   "metadata": {},
   "outputs": [],
   "source": [
    "def isWall(point:Point, image):\n",
    "    x = point.x\n",
    "    y = point.y\n",
    "    if x < image.shape[1] and y < image.shape[0]:\n",
    "        if image[y][x][0] < 128 and image[y][x][1] < 128 and image[y][x][2] < 128: return True\n",
    "        else: return False\n",
    "    else: return False\n",
    "\n",
    "\n",
    "def getDistance(pointStart:Point, pointTarget:Point):\n",
    "    return np.sqrt(np.abs(pointStart.x-pointTarget.x)**2 + np.abs(pointStart.y-pointTarget.y)**2)"
   ]
  },
  {
   "attachments": {},
   "cell_type": "markdown",
   "metadata": {},
   "source": [
    "#### Function `getNextPoints`\n",
    "Gibt eine List von Punkten zurück, die vom gegebenen Punkt benachbart sind. Wenn ein benachbarter Punkt eine Wand darstellt, wird dieser ignoriert.\n",
    "- `point:Point`: Punkt von dem aus die benachbarten Punkte gesucht werden\n",
    "- `image`: Bildarray auf dem der Punkt ist"
   ]
  },
  {
   "cell_type": "code",
   "execution_count": 91,
   "metadata": {},
   "outputs": [],
   "source": [
    "def getNextPointsFromMap(point:Point, image):\n",
    "    maxPos = image.shape\n",
    "    nextPoints = []\n",
    "    for i in np.arange(-1,2,1):\n",
    "        for j in np.arange(-1,2,1):\n",
    "            if i != 0 or j != 0:\n",
    "                xn = point.x+i\n",
    "                yn = point.y+j\n",
    "                if xn >= 0 and yn >= 0 and xn <= maxPos[1] and yn <= maxPos[0] and not isWall(Point(xn, yn), image):\n",
    "                    if xn != startPoint.x or yn != startPoint.y:\n",
    "                        if xn < image.shape[1] and yn < image.shape[0]:\n",
    "                            nextPoints.append(Point(xn, yn))\n",
    "    return nextPoints"
   ]
  },
  {
   "cell_type": "code",
   "execution_count": 92,
   "metadata": {},
   "outputs": [],
   "source": [
    "def isPointInList(point:Point, pointList:list[Point]):\n",
    "    wasFound = False\n",
    "    for p in pointList:\n",
    "        if p.x == point.x and p.y ==point.y: wasFound = True\n",
    "    return wasFound"
   ]
  },
  {
   "cell_type": "code",
   "execution_count": 93,
   "metadata": {},
   "outputs": [],
   "source": [
    "def getPointFromList(point:Point, pointList:list[Point]):\n",
    "    for p in pointList:\n",
    "        if p.x == point.x and p.y ==point.y: return p"
   ]
  },
  {
   "cell_type": "code",
   "execution_count": 94,
   "metadata": {},
   "outputs": [],
   "source": [
    "def isNeighbourPoint(pointOfIntrest:Point, potantialPoint:Point):\n",
    "    if np.abs(pointOfIntrest.x - potantialPoint.x) >1 or np.abs(pointOfIntrest.y - potantialPoint.y) >1:\n",
    "        return False\n",
    "    if pointOfIntrest.x == potantialPoint.x and pointOfIntrest.y == potantialPoint.y:\n",
    "        return False\n",
    "    else: return True"
   ]
  },
  {
   "attachments": {},
   "cell_type": "markdown",
   "metadata": {},
   "source": [
    "#### Function `calculateNextPoints`\n",
    "Gibt eine List von Punkten zurück, die benachbart sind vom gegeben Punkt und berechnet die Kosten um den Punkt zu erreichen und berechnet die Distanz zum Zielpunkt.\n",
    "- `point:Point`: Punkt von dem aus die benachbarten Punkte berechnet werden\n",
    "- `image`: Bildarray auf dem der Punkt ist\n",
    "- `precision`: Auf wieviele Stellen nach dem Komma gerundet werden soll bezüglich der Kosten"
   ]
  },
  {
   "cell_type": "code",
   "execution_count": 95,
   "metadata": {},
   "outputs": [],
   "source": [
    "def calculateNextPoints(point:Point, image, pointList:list[Point]=[]):\n",
    "    nextPoints = getNextPointsFromMap(point, image)\n",
    "\n",
    "    distance = 1\n",
    "    distanceDiagonal = 1.4\n",
    "\n",
    "    if len(pointList) > 0:\n",
    "        for p in pointList:\n",
    "            if isNeighbourPoint(p, point):\n",
    "                if p.x != point.x and p.y != point.y:\n",
    "                    cost = distanceDiagonal\n",
    "                else:\n",
    "                    cost = distance\n",
    "                    \n",
    "                distanceToTarget = getDistance(p, endPoint)\n",
    "                newGCost = point.g_cost + cost\n",
    "        \n",
    "                if p.g_cost > newGCost:\n",
    "                    p.updateCost(newGCost, distanceToTarget)\n",
    "\n",
    "    for p in nextPoints:\n",
    "        if p.x != point.x and p.y != point.y:\n",
    "            cost = distanceDiagonal\n",
    "        else:\n",
    "            cost = distance\n",
    "            \n",
    "        distanceToTarget = getDistance(p, endPoint)\n",
    "        newGCost = point.g_cost + cost\n",
    "\n",
    "        if p.g_cost > newGCost:\n",
    "            p.updateCost(newGCost, distanceToTarget)\n",
    "\n",
    "        if not isPointInList(p, pointList):\n",
    "            pointList.append(Point(p.x, p.y ,newGCost, distanceToTarget))       \n",
    "\n",
    "    return pointList"
   ]
  },
  {
   "cell_type": "code",
   "execution_count": 96,
   "metadata": {},
   "outputs": [],
   "source": [
    "def plotImage(image, points):\n",
    "    for point in points:\n",
    "        label = f'{round(point.g_cost,1)}   {round(point.h_cost,1)}'\n",
    "        plt.text(point.x, point.y, label, ha='center',va='bottom',fontsize=10)\n",
    "        label = f'{round(point.f_cost,1)}'\n",
    "        plt.text(point.x, point.y, label, ha='center',va='top',fontsize=14)\n",
    "\n",
    "    plt.imshow(image)"
   ]
  },
  {
   "cell_type": "code",
   "execution_count": 97,
   "metadata": {},
   "outputs": [],
   "source": [
    "def getClosestPointToTarget(points:list[Point]):\n",
    "    bestPoint:Point = Point(-1,-1,float('inf'),float('inf'),False)\n",
    "    minDistanceToTarget = float('inf')\n",
    "    for point in points:\n",
    "        if point.h_cost < minDistanceToTarget:\n",
    "            minDistanceToTarget = point.h_cost\n",
    "            bestPoint = point\n",
    "def getNextPointsFromMap(point:Point, image):\n",
    "    maxPos = image.shape\n",
    "    nextPoints = []\n",
    "    for i in np.arange(-1,2,1):\n",
    "        for j in np.arange(-1,2,1):\n",
    "            if i != 0 or j != 0:\n",
    "                xn = point.x+i\n",
    "                yn = point.y+j\n",
    "                if xn >= 0 and yn >= 0 and xn <= maxPos[1] and yn <= maxPos[0] and not isWall(Point(xn, yn), image):\n",
    "                    if xn != startPoint.x or yn != startPoint.y:\n",
    "                        if xn < image.shape[1] and yn < image.shape[0]:\n",
    "                            nextPoints.append(Point(xn, yn))\n",
    "    return nextPoints"
   ]
  },
  {
   "cell_type": "code",
   "execution_count": 98,
   "metadata": {},
   "outputs": [],
   "source": [
    "def getLowestHCostPoint(points:list[Point]):\n",
    "    bestHCostPoints:Point = Point\n",
    "    minHCost = float('inf')\n",
    "    for p in points:\n",
    "            if p.h_cost < minHCost:\n",
    "                minHCost = p.h_cost\n",
    "                bestHCostPoints = p\n",
    "\n",
    "    return bestHCostPoints"
   ]
  },
  {
   "cell_type": "code",
   "execution_count": 99,
   "metadata": {},
   "outputs": [],
   "source": [
    "def getLowestUnvisitedFCostPoints(points:list[Point]):\n",
    "    bestPoint = Point\n",
    "    bestFCostPoints:list[Point] = []\n",
    "    minFCost = float('inf')\n",
    "    for p in points:\n",
    "        if p.isVisited is not True:\n",
    "            if p.f_cost <= minFCost:\n",
    "                minFCost = p.f_cost\n",
    "                #bestPoint = p\n",
    "                #bestFCostPoints.append(bestPoint)\n",
    "\n",
    "    for p in points:\n",
    "        if p.f_cost <= minFCost*1.05 and p.isVisited is not True: bestFCostPoints.append(p)\n",
    "    \n",
    "\n",
    "    if len(bestFCostPoints) > 1:\n",
    "        bestPoint = getLowestHCostPoint(bestFCostPoints)\n",
    "    else:\n",
    "        bestPoint = bestFCostPoints[0]\n",
    "\n",
    "    return bestPoint"
   ]
  },
  {
   "cell_type": "code",
   "execution_count": 100,
   "metadata": {},
   "outputs": [
    {
     "name": "stdout",
     "output_type": "stream",
     "text": [
      "f=40\tg=30\th=10\n"
     ]
    }
   ],
   "source": [
    "p1 = Point(0, 0, 10, 30)\n",
    "p2 = Point(0, 0, 30, 10)\n",
    "p3 = Point(0, 0, 20, 20)\n",
    "p4 = Point(0, 0, 30, 30)\n",
    "\n",
    "p = [p1, p2, p3, p4]\n",
    "\n",
    "point = getLowestUnvisitedFCostPoints(p)\n",
    "\n",
    "print(f'f={point.f_cost}\\tg={point.g_cost}\\th={point.h_cost}')"
   ]
  },
  {
   "cell_type": "code",
   "execution_count": 101,
   "metadata": {},
   "outputs": [],
   "source": [
    "def printPlotDetail(pointList:list[Point], image, iterations, record=False):\n",
    "\n",
    "    maxDimension = max(image.shape)\n",
    "\n",
    "    if maxDimension > 16: plt.imshow(img)\n",
    "    else: plotImage(img, pointList)\n",
    "\n",
    "    print(f'Iterationen: {iterations}')\n",
    "\n",
    "    sd = 250000/maxDimension**2\n",
    "    yellow_x = []\n",
    "    yellow_y = []\n",
    "    orange_x = []\n",
    "    orange_y = []\n",
    "    for p in pointList:\n",
    "        if p.isVisited is not True:\n",
    "            yellow_x.append(p.x)\n",
    "            yellow_y.append(p.y)\n",
    "        else:\n",
    "            orange_x.append(p.x)\n",
    "            orange_y.append(p.y)\n",
    "\n",
    "    plt.scatter(x=orange_x, y=orange_y, c='orange', marker='s', s=sd)\n",
    "    plt.scatter(x=yellow_x, y=yellow_y, c='yellow', marker='s', s=sd)\n",
    "\n",
    "    if record is True: plt.savefig(f'Test/{iterations}_Iteration_V2')\n",
    "\n"
   ]
  },
  {
   "cell_type": "code",
   "execution_count": 102,
   "metadata": {},
   "outputs": [],
   "source": [
    "pointList = calculateNextPoints(startPoint, img)\n",
    "maxDimension = max(img.shape)\n",
    "distanceToTarget = float('inf')\n",
    "iterations = 0\n",
    "MAX_ITERATION = maxDimension**2\n",
    "\n",
    "while distanceToTarget > 1.5 and iterations < MAX_ITERATION:\n",
    "    point = getLowestUnvisitedFCostPoints(pointList)\n",
    "    point.isVisited = True\n",
    "    distanceToTarget = point.h_cost\n",
    "    pointList = calculateNextPoints(point, img, pointList)\n",
    "    iterations += 1\n",
    "    #printPlotDetail(pointList, img, iterations, True)\n",
    "    #plt.close()"
   ]
  },
  {
   "cell_type": "code",
   "execution_count": 103,
   "metadata": {},
   "outputs": [],
   "source": [
    "#printPlotDetail(pointList, img, iterations)"
   ]
  },
  {
   "cell_type": "code",
   "execution_count": 104,
   "metadata": {},
   "outputs": [],
   "source": [
    "def getEndPoint(points:list[Point]):\n",
    "    endPoint = 0\n",
    "    for p in points:\n",
    "        if p.h_cost < 1:\n",
    "            endPoint = p\n",
    "            break\n",
    "    return endPoint\n",
    "\n",
    "def getNextPointsFromList(point:Point, pointList:list[Point]):\n",
    "    nextPoints = []\n",
    "    for p in pointList:\n",
    "        if isNeighbourPoint(point, p): nextPoints.append(p)\n",
    "    return nextPoints\n",
    "\n",
    "def getNextPathPoint(pointlist:list[Point]):\n",
    "    minGCost = float('inf')\n",
    "    bestGCostPoint = 0\n",
    "    for p in pointlist:\n",
    "        if p.g_cost < minGCost:\n",
    "            minGCost = p.g_cost\n",
    "            bestGCostPoint = p\n",
    "    \n",
    "    return bestGCostPoint\n",
    "\n",
    "\n",
    "def getPath(points:list[Point]):\n",
    "    path = []\n",
    "\n",
    "    distanceToStart = float('inf')\n",
    "    iterations = 1\n",
    "    print(endPoint.x, endPoint.y)\n",
    "    nextPoints = getNextPointsFromList(endPoint, points)\n",
    "    nextPoint = getNextPathPoint(nextPoints)\n",
    "    path.append(nextPoint)\n",
    "\n",
    "    while distanceToStart > 1.5 and iterations < maxDimension**2:\n",
    "        nextPoints = getNextPointsFromList(nextPoint, points)\n",
    "        nextPoint = getNextPathPoint(nextPoints)\n",
    "        distanceToStart = nextPoint.g_cost\n",
    "\n",
    "        path.append(nextPoint)\n",
    "        iterations += 1\n",
    "\n",
    "    return path, iterations"
   ]
  },
  {
   "cell_type": "code",
   "execution_count": 105,
   "metadata": {},
   "outputs": [
    {
     "name": "stdout",
     "output_type": "stream",
     "text": [
      "7 93\n",
      "Steps to Target: 108\n",
      "Iterationen: 108\n"
     ]
    },
    {
     "data": {
      "image/png": "[encoded data removed]",
      "text/plain": [
       "<Figure size 1200x1200 with 1 Axes>"
      ]
     },
     "metadata": {},
     "output_type": "display_data"
    }
   ],
   "source": [
    "path, iterations= getPath(pointList)\n",
    "\n",
    "print(f'Steps to Target: {iterations}')\n",
    "\n",
    "maxDimension = max(img.shape)\n",
    "sd = 250000/maxDimension**2\n",
    "\n",
    "printPlotDetail(pointList, img, iterations)\n",
    "for p in path:\n",
    "    plt.scatter(p.x, p.y, c='red', marker='s', s=sd)"
   ]
  }
 ],
 "metadata": {
  "kernelspec": {
   "display_name": "Python 3",
   "language": "python",
   "name": "python3"
  },
  "language_info": {
   "codemirror_mode": {
    "name": "ipython",
    "version": 3
   },
   "file_extension": ".py",
   "mimetype": "text/x-python",
   "name": "python",
   "nbconvert_exporter": "python",
   "pygments_lexer": "ipython3",
   "version": "3.10.9"
  },
  "orig_nbformat": 4
 },
 "nbformat": 4,
 "nbformat_minor": 2
}
