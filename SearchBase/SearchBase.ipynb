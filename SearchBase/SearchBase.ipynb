{
 "cells": [
  {
   "cell_type": "code",
   "execution_count": 488,
   "metadata": {},
   "outputs": [],
   "source": [
    "import matplotlib.pyplot as plt\n",
    "import numpy as np\n",
    "from PIL import Image"
   ]
  },
  {
   "cell_type": "code",
   "execution_count": 489,
   "metadata": {},
   "outputs": [
    {
     "data": {
      "image/png": "[encoded data removed]",
      "text/plain": [
       "<Figure size 1000x1000 with 1 Axes>"
      ]
     },
     "metadata": {},
     "output_type": "display_data"
    }
   ],
   "source": [
    "img = np.asarray(Image.open('pic2.png'))\n",
    "imgplot = plt.imshow(img)"
   ]
  },
  {
   "attachments": {},
   "cell_type": "markdown",
   "metadata": {},
   "source": [
    "#### Class `Point`\n",
    "Definiert einen Punkt mit folgenden Parametern:\n",
    "- `x`: x-Position des Punktes\n",
    "- `y`: y-Position des Punkter\n",
    "- `cost`: Der Kostenwert um diesen Punkt zu erreichen\n",
    "- `isActive`: Besagt ob der Punkt aktiv ist bzw. ob er für den Pfad relevant ist\n",
    "- `distanceToTarget`: Ist die Distanz zum Ziel"
   ]
  },
  {
   "cell_type": "code",
   "execution_count": 490,
   "metadata": {},
   "outputs": [],
   "source": [
    "class Point:\n",
    "    def __init__(self, x, y, cost=-1, isActive=False, distanceToTarget=-1):\n",
    "        self.x = x\n",
    "        self.y = y\n",
    "        self.cost = cost\n",
    "        self.isActive = isActive,\n",
    "        self.distanceToTarget = distanceToTarget"
   ]
  },
  {
   "attachments": {},
   "cell_type": "markdown",
   "metadata": {},
   "source": [
    "#### Function `getPointByColor`\n",
    "Gibt einen Punkt zurück, welcher die entsprechende Farbe hat. Es wird nur der letzte gefundene Punkt zurückgegeben.\n",
    "- `r`: Rotwert von 0-255\n",
    "- `g`: Grünwert von 0-255\n",
    "- `b`: Blauwert von 0-255\n",
    "- `image`: Bildarray in dem der Punkt gesucht werden soll"
   ]
  },
  {
   "cell_type": "code",
   "execution_count": 491,
   "metadata": {},
   "outputs": [],
   "source": [
    "def getPointByColor(r, g, b, image):\n",
    "    x, y = 0, 0\n",
    "    for idi, i in enumerate(image):\n",
    "        for idj, j in enumerate(i):\n",
    "            if j[0] == r and j[1] == g and j[2] == b:\n",
    "               x = idj\n",
    "               y = idi\n",
    "    return Point(x ,y)\n"
   ]
  },
  {
   "attachments": {},
   "cell_type": "markdown",
   "metadata": {},
   "source": [
    "Der grüne Startpunkt und der rote Zielpunkt wird mithilfe der Funktion `getPointByColor` definiert."
   ]
  },
  {
   "cell_type": "code",
   "execution_count": 492,
   "metadata": {},
   "outputs": [
    {
     "name": "stdout",
     "output_type": "stream",
     "text": [
      "StartPoint = <__main__.Point object at 0x174bb9510>\n",
      "EndPoint = <__main__.Point object at 0x174cfb2b0>\n"
     ]
    }
   ],
   "source": [
    "startPoint = getPointByColor(0, 255, 0, img)\n",
    "endPoint = getPointByColor(255, 0, 0, img)\n",
    "print(f'StartPoint = {startPoint}\\nEndPoint = {endPoint}')"
   ]
  },
  {
   "attachments": {},
   "cell_type": "markdown",
   "metadata": {},
   "source": [
    "#### Function `isWall`\n",
    "Gibt zurück, ob entsprechneder Punkt eine Wand ist oder nicht. Wenn die Farbe des Punktes in allen drei Farben einen geringeren Wert als 128 aufweisst, wird er als Wand definiert.\n",
    "- `point:Point`: Punkt der auf eine Wand geprüft werden soll.\n",
    "- `image`: Bildarray auf dem der Punkt ist"
   ]
  },
  {
   "cell_type": "code",
   "execution_count": 493,
   "metadata": {},
   "outputs": [],
   "source": [
    "def isWall(point:Point, image):\n",
    "    x = point.x\n",
    "    y = point.y\n",
    "    if image[y][x][0] < 128 and image[y][x][1] < 128 and image[y][x][2] < 128: return True\n",
    "    else: return False\n",
    "\n",
    "\n",
    "\n",
    "def getDistance(pointStart:Point, pointTarget:Point):\n",
    "    return np.sqrt(np.abs(pointStart.x-pointTarget.x)**2 + np.abs(pointStart.y-pointTarget.y)**2)"
   ]
  },
  {
   "attachments": {},
   "cell_type": "markdown",
   "metadata": {},
   "source": [
    "#### Function `getNextPoints`\n",
    "Gibt eine List von Punkten zurück, die vom gegebenen Punkt benachbart sind. Wenn ein benachbarter Punkt eine Wand darstellt, wird dieser ignoriert.\n",
    "- `point:Point`: Punkt von dem aus die benachbarten Punkte gesucht werden\n",
    "- `image`: Bildarray auf dem der Punkt ist"
   ]
  },
  {
   "cell_type": "code",
   "execution_count": 494,
   "metadata": {},
   "outputs": [],
   "source": [
    "def getNextPoints(point:Point, image):\n",
    "    x = point.x\n",
    "    y = point.y\n",
    "    maxPos = image.shape\n",
    "    nextPoints = []\n",
    "    for i in np.arange(-1,2,1):\n",
    "        for j in np.arange(-1,2,1):\n",
    "            if i != 0 or j != 0:\n",
    "                xn = x+i\n",
    "                yn = y+j\n",
    "                if xn >= 0 and yn >= 0 and xn <= maxPos[1] and yn <= maxPos[0] and not isWall(Point(xn, yn), image):\n",
    "                    nextPoints.append(Point(xn, yn))\n",
    "    return nextPoints"
   ]
  },
  {
   "attachments": {},
   "cell_type": "markdown",
   "metadata": {},
   "source": [
    "#### Function `calculateNextPoints`\n",
    "Gibt eine List von Punkten zurück, die benachbart sind vom gegeben Punkt und berechnet die Kosten um den Punkt zu erreichen und berechnet die Distanz zum Zielpunkt.\n",
    "- `point:Point`: Punkt von dem aus die benachbarten Punkte berechnet werden\n",
    "- `image`: Bildarray auf dem der Punkt ist\n",
    "- `precision`: Auf wieviele Stellen nach dem Komma gerundet werden soll bezüglich der Kosten"
   ]
  },
  {
   "cell_type": "code",
   "execution_count": 495,
   "metadata": {},
   "outputs": [],
   "source": [
    "def calculateNextPoints(point:Point, image, precision=1):\n",
    "    distance = 1\n",
    "    distanceDiagonal = np.sqrt(distance**2 + distance**2)\n",
    "    nextPoints = getNextPoints(startPoint, image)\n",
    "\n",
    "    pointList = []\n",
    "    for point in nextPoints:\n",
    "        dist = 0\n",
    "        if point.x != startPoint.x and point.y != startPoint.y:\n",
    "            dist = round(distanceDiagonal,precision)\n",
    "        else:\n",
    "            dist = distance\n",
    "\n",
    "        distanceToTarget = getDistance(point, endPoint)\n",
    "        pointList.append(Point(point.x, point.y, dist, True, distanceToTarget))\n",
    "\n",
    "    return pointList"
   ]
  },
  {
   "cell_type": "code",
   "execution_count": 496,
   "metadata": {},
   "outputs": [],
   "source": [
    "def plotImage(image, points):\n",
    "    for point in points:\n",
    "        label = f'c={point.cost}\\nd={round(point.distanceToTarget,1)}'\n",
    "        plt.text(point.x, point.y, label, ha='center',va='center',fontsize=8)\n",
    "    plt.imshow(image)"
   ]
  },
  {
   "cell_type": "code",
   "execution_count": 497,
   "metadata": {},
   "outputs": [
    {
     "data": {
      "image/png": "[encoded data removed]",
      "text/plain": [
       "<Figure size 1000x1000 with 1 Axes>"
      ]
     },
     "metadata": {},
     "output_type": "display_data"
    }
   ],
   "source": [
    "plotImage(img, calculateNextPoints(startPoint, img))"
   ]
  },
  {
   "cell_type": "code",
   "execution_count": 498,
   "metadata": {},
   "outputs": [],
   "source": [
    "def getClosestPointToTarget(points):\n",
    "    bestPoint:Point = 0\n",
    "    minDistanceToTarget = float('inf')\n",
    "    for point in points:\n",
    "        if point.distanceToTarget < minDistanceToTarget:\n",
    "            minDistanceToTarget = point.distanceToTarget\n",
    "            bestPoint = point\n",
    "\n",
    "    return bestPoint"
   ]
  },
  {
   "cell_type": "code",
   "execution_count": 499,
   "metadata": {},
   "outputs": [
    {
     "name": "stdout",
     "output_type": "stream",
     "text": [
      "4 8 1.4 10.295630140987\n"
     ]
    }
   ],
   "source": [
    "nextPoints = calculateNextPoints(startPoint, img)\n",
    "bestPoint = getClosestPointToTarget(nextPoints)\n",
    "print(bestPoint.x, bestPoint.y, bestPoint.cost, bestPoint.distanceToTarget)"
   ]
  },
  {
   "cell_type": "code",
   "execution_count": null,
   "metadata": {},
   "outputs": [],
   "source": []
  }
 ],
 "metadata": {
  "kernelspec": {
   "display_name": "Python 3",
   "language": "python",
   "name": "python3"
  },
  "language_info": {
   "codemirror_mode": {
    "name": "ipython",
    "version": 3
   },
   "file_extension": ".py",
   "mimetype": "text/x-python",
   "name": "python",
   "nbconvert_exporter": "python",
   "pygments_lexer": "ipython3",
   "version": "3.10.9"
  },
  "orig_nbformat": 4
 },
 "nbformat": 4,
 "nbformat_minor": 2
}
