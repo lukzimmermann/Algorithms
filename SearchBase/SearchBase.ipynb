{
 "cells": [
  {
   "cell_type": "code",
   "execution_count": 686,
   "metadata": {},
   "outputs": [],
   "source": [
    "import matplotlib.pyplot as plt\n",
    "import numpy as np\n",
    "from PIL import Image"
   ]
  },
  {
   "cell_type": "code",
   "execution_count": 687,
   "metadata": {},
   "outputs": [
    {
     "data": {
      "image/png": "[encoded data removed]",
      "text/plain": [
       "<Figure size 1200x1200 with 1 Axes>"
      ]
     },
     "metadata": {},
     "output_type": "display_data"
    }
   ],
   "source": [
    "img = np.asarray(Image.open('pic4.png'))\n",
    "plt.rcParams['figure.figsize'] = [12, 12]\n",
    "imgplot = plt.imshow(img)"
   ]
  },
  {
   "attachments": {},
   "cell_type": "markdown",
   "metadata": {},
   "source": [
    "#### Class `Point`\n",
    "Definiert einen Punkt mit folgenden Parametern:\n",
    "- `x`: x-Position des Punktes\n",
    "- `y`: y-Position des Punkter\n",
    "- `g_cost`: Der Kostenwert um diesen Punkt zu erreichen\n",
    "- `h_cost`: Der Kostenwert um diesen Punkt zu erreichen\n",
    "- `f_cost`: Der Kostenwert um diesen Punkt zu erreichen\n",
    "- `isActive`: Besagt ob der Punkt aktiv ist bzw. ob er für den Pfad relevant ist\n",
    "- `distanceToTarget`: Ist die Distanz zum Ziel"
   ]
  },
  {
   "cell_type": "code",
   "execution_count": 688,
   "metadata": {},
   "outputs": [],
   "source": [
    "class Point:\n",
    "    def __init__(self, x, y, g_cost=0, h_cost=0, isVisited=False):\n",
    "        self.x = x\n",
    "        self.y = y\n",
    "        self.g_cost = g_cost #distance from starting point\n",
    "        self.h_cost = h_cost #distance form end point\n",
    "        self.f_cost = g_cost + h_cost #sum of H cost and G cost\n",
    "        self.isVisited = isVisited,\n",
    "    \n",
    "    def updateCost(self, g_cost, h_cost):\n",
    "        self.g_cost = g_cost\n",
    "        self.h_cost = h_cost\n",
    "        self.f_cost = g_cost + h_cost\n",
    "\n"
   ]
  },
  {
   "attachments": {},
   "cell_type": "markdown",
   "metadata": {},
   "source": [
    "#### Function `getPointByColor`\n",
    "Gibt einen Punkt zurück, welcher die entsprechende Farbe hat. Es wird nur der letzte gefundene Punkt zurückgegeben.\n",
    "- `r`: Rotwert von 0-255\n",
    "- `g`: Grünwert von 0-255\n",
    "- `b`: Blauwert von 0-255\n",
    "- `image`: Bildarray in dem der Punkt gesucht werden soll"
   ]
  },
  {
   "cell_type": "code",
   "execution_count": 689,
   "metadata": {},
   "outputs": [],
   "source": [
    "def getPointByColor(r, g, b, image):\n",
    "    x, y = 0, 0\n",
    "    for idi, i in enumerate(image):\n",
    "        for idj, j in enumerate(i):\n",
    "            if j[0] == r and j[1] == g and j[2] == b:\n",
    "               x = idj\n",
    "               y = idi\n",
    "    return Point(x ,y)\n"
   ]
  },
  {
   "attachments": {},
   "cell_type": "markdown",
   "metadata": {},
   "source": [
    "Der grüne Startpunkt und der rote Zielpunkt wird mithilfe der Funktion `getPointByColor` definiert."
   ]
  },
  {
   "cell_type": "code",
   "execution_count": 690,
   "metadata": {},
   "outputs": [
    {
     "name": "stdout",
     "output_type": "stream",
     "text": [
      "StartPoint = <__main__.Point object at 0x7fa9fb741750>\n",
      "EndPoint = <__main__.Point object at 0x7fa9fb7a2c20>\n"
     ]
    }
   ],
   "source": [
    "startPoint = getPointByColor(0, 255, 0, img)\n",
    "endPoint = getPointByColor(255, 0, 0, img)\n",
    "print(f'StartPoint = {startPoint}\\nEndPoint = {endPoint}')"
   ]
  },
  {
   "attachments": {},
   "cell_type": "markdown",
   "metadata": {},
   "source": [
    "#### Function `isWall`\n",
    "Gibt zurück, ob entsprechneder Punkt eine Wand ist oder nicht. Wenn die Farbe des Punktes in allen drei Farben einen geringeren Wert als 128 aufweisst, wird er als Wand definiert.\n",
    "- `point:Point`: Punkt der auf eine Wand geprüft werden soll.\n",
    "- `image`: Bildarray auf dem der Punkt ist"
   ]
  },
  {
   "cell_type": "code",
   "execution_count": 691,
   "metadata": {},
   "outputs": [],
   "source": [
    "def isWall(point:Point, image):\n",
    "    x = point.x\n",
    "    y = point.y\n",
    "    if image[y][x][0] < 128 and image[y][x][1] < 128 and image[y][x][2] < 128: return True\n",
    "    else: return False\n",
    "\n",
    "\n",
    "def getDistance(pointStart:Point, pointTarget:Point):\n",
    "    return np.sqrt(np.abs(pointStart.x-pointTarget.x)**2 + np.abs(pointStart.y-pointTarget.y)**2)"
   ]
  },
  {
   "attachments": {},
   "cell_type": "markdown",
   "metadata": {},
   "source": [
    "#### Function `getNextPoints`\n",
    "Gibt eine List von Punkten zurück, die vom gegebenen Punkt benachbart sind. Wenn ein benachbarter Punkt eine Wand darstellt, wird dieser ignoriert.\n",
    "- `point:Point`: Punkt von dem aus die benachbarten Punkte gesucht werden\n",
    "- `image`: Bildarray auf dem der Punkt ist"
   ]
  },
  {
   "cell_type": "code",
   "execution_count": 692,
   "metadata": {},
   "outputs": [],
   "source": [
    "def getNextPoints(point:Point, image):\n",
    "    x = point.x\n",
    "    y = point.y\n",
    "    maxPos = image.shape\n",
    "    nextPoints = []\n",
    "    for i in np.arange(-1,2,1):\n",
    "        for j in np.arange(-1,2,1):\n",
    "            if i != 0 or j != 0:\n",
    "                xn = x+i\n",
    "                yn = y+j\n",
    "                if xn >= 0 and yn >= 0 and xn <= maxPos[1] and yn <= maxPos[0] and not isWall(Point(xn, yn), image):\n",
    "                    if xn != startPoint.x and xn != endPoint.x or yn != startPoint.y and yn != endPoint.y:\n",
    "                        nextPoints.append(Point(xn, yn))\n",
    "    return nextPoints"
   ]
  },
  {
   "cell_type": "code",
   "execution_count": 693,
   "metadata": {},
   "outputs": [],
   "source": [
    "def isPointInList(point:Point, pointList:list[Point]):\n",
    "    wasFound = False\n",
    "    for p in pointList:\n",
    "        if p.x == point.x and p.y ==point.y: wasFound = True\n",
    "    return wasFound"
   ]
  },
  {
   "cell_type": "code",
   "execution_count": 694,
   "metadata": {},
   "outputs": [],
   "source": [
    "def getPointFromList(point:Point, pointList:list[Point]):\n",
    "    for p in pointList:\n",
    "        if p.x == point.x and p.y ==point.y: return p"
   ]
  },
  {
   "attachments": {},
   "cell_type": "markdown",
   "metadata": {},
   "source": [
    "#### Function `calculateNextPoints`\n",
    "Gibt eine List von Punkten zurück, die benachbart sind vom gegeben Punkt und berechnet die Kosten um den Punkt zu erreichen und berechnet die Distanz zum Zielpunkt.\n",
    "- `point:Point`: Punkt von dem aus die benachbarten Punkte berechnet werden\n",
    "- `image`: Bildarray auf dem der Punkt ist\n",
    "- `precision`: Auf wieviele Stellen nach dem Komma gerundet werden soll bezüglich der Kosten"
   ]
  },
  {
   "cell_type": "code",
   "execution_count": 695,
   "metadata": {},
   "outputs": [],
   "source": [
    "def calculateNextPoints(point:Point, image, pointList:list[Point]=[], precision=1):\n",
    "    distance = 10.0\n",
    "    distanceDiagonal = 14# np.sqrt(distance**2 + distance**2)\n",
    "    nextPoints = getNextPoints(point, image)\n",
    "\n",
    "    \n",
    "    for p in nextPoints:\n",
    "        cost = 0.0\n",
    "        if p.x != point.x and p.y != point.y:\n",
    "            cost = round(distanceDiagonal,precision)\n",
    "        else:\n",
    "            cost = distance\n",
    "\n",
    "        distanceToTarget = getDistance(p, endPoint)\n",
    "        distanceToStart = getDistance(p, startPoint)\n",
    "\n",
    "        if not isPointInList(p, pointList):\n",
    "            pointList.append(Point(p.x, p.y, distanceToStart, distanceToTarget))\n",
    "        \n",
    "\n",
    "    return pointList"
   ]
  },
  {
   "cell_type": "code",
   "execution_count": 696,
   "metadata": {},
   "outputs": [],
   "source": [
    "def plotImage(image, points):\n",
    "    for point in points:\n",
    "        label = f'{round(point.g_cost,1)}   {round(point.h_cost,1)}'\n",
    "        plt.text(point.x, point.y, label, ha='center',va='bottom',fontsize=10)\n",
    "        label = f'{round(point.f_cost,1)}'\n",
    "        plt.text(point.x, point.y, label, ha='center',va='top',fontsize=14)\n",
    "\n",
    "    plt.imshow(image)"
   ]
  },
  {
   "cell_type": "code",
   "execution_count": 697,
   "metadata": {},
   "outputs": [],
   "source": [
    "def getClosestPointToTarget(points:list[Point]):\n",
    "    bestPoint:Point = Point\n",
    "    minDistanceToTarget = float('inf')\n",
    "    for point in points:\n",
    "        if point.h_cost < minDistanceToTarget:\n",
    "            minDistanceToTarget = point.h_cost\n",
    "            bestPoint = point\n",
    "\n",
    "    return bestPoint"
   ]
  },
  {
   "cell_type": "code",
   "execution_count": 698,
   "metadata": {},
   "outputs": [
    {
     "name": "stdout",
     "output_type": "stream",
     "text": [
      "2\n",
      "x=6\ty=3\tv=True\n",
      "x=6\ty=4\tv=(False,)\n",
      "x=6\ty=5\tv=(False,)\n",
      "x=7\ty=3\tv=(False,)\n",
      "x=7\ty=5\tv=(False,)\n",
      "x=8\ty=3\tv=(False,)\n",
      "x=8\ty=4\tv=(False,)\n",
      "x=8\ty=5\tv=(False,)\n",
      "x=5\ty=2\tv=True\n",
      "x=5\ty=3\tv=(False,)\n",
      "x=5\ty=4\tv=(False,)\n",
      "x=6\ty=2\tv=(False,)\n",
      "x=7\ty=2\tv=(False,)\n",
      "x=4\ty=2\tv=(False,)\n",
      "x=4\ty=3\tv=(False,)\n",
      "x=5\ty=1\tv=(False,)\n",
      "x=6\ty=1\tv=(False,)\n"
     ]
    },
    {
     "data": {
      "image/png": "[encoded data removed]",
      "text/plain": [
       "<Figure size 1200x1200 with 1 Axes>"
      ]
     },
     "metadata": {},
     "output_type": "display_data"
    }
   ],
   "source": [
    "nextPoints = calculateNextPoints(startPoint, img)\n",
    "\n",
    "distanceToTarget = 99999999\n",
    "iterations = 0\n",
    "MAX_ITERATION = 1000\n",
    "\n",
    "while distanceToTarget > 1.5 and iterations < MAX_ITERATION:\n",
    "    point = getClosestPointToTarget(nextPoints)\n",
    "    point.isVisited = True\n",
    "\n",
    "    distanceToTarget = point.h_cost\n",
    "    nextPoints = calculateNextPoints(point, img, nextPoints)\n",
    "    iterations+= 1\n",
    "\n",
    "plotImage(img, nextPoints)\n",
    "print(iterations)\n",
    "\n",
    "for p in nextPoints:\n",
    "    print(f'x={p.x}\\ty={p.y}\\tv={p.isVisited}')\n",
    "    if p.isVisited is True:\n",
    "        plt.scatter(x=[p.x], y=[p.y], c='orange', marker='s', s=2000)\n",
    "    else:\n",
    "        plt.scatter(x=[p.x], y=[p.y], c='yellow', marker='s', s=2000)"
   ]
  },
  {
   "cell_type": "code",
   "execution_count": null,
   "metadata": {},
   "outputs": [],
   "source": []
  }
 ],
 "metadata": {
  "kernelspec": {
   "display_name": "Python 3",
   "language": "python",
   "name": "python3"
  },
  "language_info": {
   "codemirror_mode": {
    "name": "ipython",
    "version": 3
   },
   "file_extension": ".py",
   "mimetype": "text/x-python",
   "name": "python",
   "nbconvert_exporter": "python",
   "pygments_lexer": "ipython3",
   "version": "3.10.6"
  },
  "orig_nbformat": 4
 },
 "nbformat": 4,
 "nbformat_minor": 2
}
